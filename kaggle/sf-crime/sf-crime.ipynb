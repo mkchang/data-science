{
 "cells": [
  {
   "cell_type": "markdown",
   "metadata": {},
   "source": [
    "# Kaggle: SF Crime "
   ]
  },
  {
   "cell_type": "code",
   "execution_count": 1,
   "metadata": {
    "collapsed": false
   },
   "outputs": [],
   "source": [
    "from matplotlib import pyplot as plt\n",
    "import numpy as np\n",
    "import pandas as pd\n",
    "from sklearn import cross_validation\n",
    "from sklearn import preprocessing\n",
    "from sklearn import svm"
   ]
  },
  {
   "cell_type": "code",
   "execution_count": 2,
   "metadata": {
    "collapsed": false
   },
   "outputs": [],
   "source": [
    "path = '/Users/martinkchang/Documents/Personal/data-science/kaggle/sf-crime/'\n",
    "trainfile = 'train.csv'\n",
    "testfile = 'test.csv'"
   ]
  },
  {
   "cell_type": "code",
   "execution_count": 3,
   "metadata": {
    "collapsed": false
   },
   "outputs": [],
   "source": [
    "train_data = pd.read_csv(path+trainfile)\n",
    "test_data = pd.read_csv(path+testfile)"
   ]
  },
  {
   "cell_type": "code",
   "execution_count": 4,
   "metadata": {
    "collapsed": false
   },
   "outputs": [
    {
     "data": {
      "text/plain": [
       "Category\n",
       "TREA                                6\n",
       "PORNOGRAPHY/OBSCENE MAT            22\n",
       "GAMBLING                          146\n",
       "SEX OFFENSES NON FORCIBLE         148\n",
       "EXTORTION                         256\n",
       "BRIBERY                           289\n",
       "BAD CHECKS                        406\n",
       "FAMILY OFFENSES                   491\n",
       "SUICIDE                           508\n",
       "EMBEZZLEMENT                     1166\n",
       "LOITERING                        1225\n",
       "ARSON                            1513\n",
       "LIQUOR LAWS                      1903\n",
       "RUNAWAY                          1946\n",
       "DRIVING UNDER THE INFLUENCE      2268\n",
       "KIDNAPPING                       2341\n",
       "RECOVERED VEHICLE                3138\n",
       "DRUNKENNESS                      4280\n",
       "DISORDERLY CONDUCT               4320\n",
       "SEX OFFENSES FORCIBLE            4388\n",
       "STOLEN PROPERTY                  4540\n",
       "TRESPASS                         7326\n",
       "PROSTITUTION                     7484\n",
       "WEAPON LAWS                      8555\n",
       "SECONDARY CODES                  9985\n",
       "FORGERY/COUNTERFEITING          10609\n",
       "FRAUD                           16679\n",
       "ROBBERY                         23000\n",
       "MISSING PERSON                  25989\n",
       "SUSPICIOUS OCC                  31414\n",
       "BURGLARY                        36755\n",
       "WARRANTS                        42214\n",
       "VANDALISM                       44725\n",
       "VEHICLE THEFT                   53781\n",
       "DRUG/NARCOTIC                   53971\n",
       "ASSAULT                         76876\n",
       "NON-CRIMINAL                    92304\n",
       "OTHER OFFENSES                 126182\n",
       "LARCENY/THEFT                  174900\n",
       "dtype: int64"
      ]
     },
     "execution_count": 4,
     "metadata": {},
     "output_type": "execute_result"
    }
   ],
   "source": [
    "train_data.groupby('Category').size().sort_values()"
   ]
  },
  {
   "cell_type": "markdown",
   "metadata": {},
   "source": [
    "## Features"
   ]
  },
  {
   "cell_type": "code",
   "execution_count": null,
   "metadata": {
    "collapsed": false
   },
   "outputs": [],
   "source": [
    "# pd.DatetimeIndex(train_data['Dates']).time"
   ]
  },
  {
   "cell_type": "code",
   "execution_count": null,
   "metadata": {
    "collapsed": false
   },
   "outputs": [],
   "source": [
    "# X_train = train_data.ix[:,['X','Y']]\n",
    "# y_train = train_data.ix[:,'Category']\n",
    "# X_test = test_data.ix[:,['X','Y']]"
   ]
  },
  {
   "cell_type": "code",
   "execution_count": 5,
   "metadata": {
    "collapsed": false
   },
   "outputs": [
    {
     "data": {
      "text/plain": [
       "LabelEncoder()"
      ]
     },
     "execution_count": 5,
     "metadata": {},
     "output_type": "execute_result"
    }
   ],
   "source": [
    "# fit LabelEncoder to crime Category\n",
    "le = preprocessing.LabelEncoder()\n",
    "le.fit(train_data.Category.unique())"
   ]
  },
  {
   "cell_type": "code",
   "execution_count": 6,
   "metadata": {
    "collapsed": false
   },
   "outputs": [],
   "source": [
    "# Encode Category column with integers, so that it can be used in regression\n",
    "train_data.Category = le.transform(train_data.Category)"
   ]
  },
  {
   "cell_type": "code",
   "execution_count": 8,
   "metadata": {
    "collapsed": false
   },
   "outputs": [],
   "source": [
    "X_train, X_cv, y_train, y_cv = cross_validation.train_test_split(train_data.ix[:,['X','Y']], train_data.ix[:,'Category'], test_size=0.4, random_state=0)"
   ]
  },
  {
   "cell_type": "markdown",
   "metadata": {},
   "source": [
    "## Regression Model"
   ]
  },
  {
   "cell_type": "code",
   "execution_count": 11,
   "metadata": {
    "collapsed": true
   },
   "outputs": [],
   "source": [
    "def MAPE(true, predicted):\n",
    "    return np.mean(np.abs((true - predicted)/true))\n",
    "\n",
    "def RMSE(error):\n",
    "    return (np.mean(error**2))**.05"
   ]
  },
  {
   "cell_type": "code",
   "execution_count": null,
   "metadata": {
    "collapsed": false
   },
   "outputs": [],
   "source": [
    "# SUPPORT VECTOR MACHINE\n",
    "crime_svm = svm.SVR(kernel='poly', C=1e3, degree=3)\n",
    "crime_svm.fit(X_train, y_train)\n",
    "\n",
    "y_train_pred = crime_svm.predict(X_train)\n",
    "y_cv_pred = crime_svm.predict(X_cv)\n",
    "error_train = y_train_pred-y_train\n",
    "error_cv = y_cv_pred-y_testcv"
   ]
  },
  {
   "cell_type": "code",
   "execution_count": null,
   "metadata": {
    "collapsed": true
   },
   "outputs": [],
   "source": [
    "# PLOTTING (for all regressions)\n",
    "plt.figure()\n",
    "plt.plot(y_train_pred, color='r', label='pred' )\n",
    "plt.plot(y_train, label='true')\n",
    "plt.plot(error_train,color='g', label='error')\n",
    "plt.legend()\n",
    "plt.title('Train, rmse = {}, mape = {}'.format(RMSE(error_train), MAPE(y_train,y_train_pred)))\n",
    "\n",
    "plt.figure()\n",
    "plt.plot(y_test_pred,color='r', label='pred')\n",
    "plt.plot(y_test, label='true')\n",
    "plt.plot(error_test,color='g', label='error')\n",
    "plt.legend()\n",
    "plt.title('Test') #.format(RMSE(error_test), MAPE(y_test,y_test_pred)))"
   ]
  }
 ],
 "metadata": {
  "kernelspec": {
   "display_name": "Python 2",
   "language": "python",
   "name": "python2"
  },
  "language_info": {
   "codemirror_mode": {
    "name": "ipython",
    "version": 2
   },
   "file_extension": ".py",
   "mimetype": "text/x-python",
   "name": "python",
   "nbconvert_exporter": "python",
   "pygments_lexer": "ipython2",
   "version": "2.7.10"
  }
 },
 "nbformat": 4,
 "nbformat_minor": 0
}
